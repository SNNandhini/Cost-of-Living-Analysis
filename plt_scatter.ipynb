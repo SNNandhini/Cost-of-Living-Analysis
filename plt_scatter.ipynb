{
 "cells": [
  {
   "cell_type": "code",
   "execution_count": 22,
   "id": "e20ddd40",
   "metadata": {},
   "outputs": [
    {
     "data": {
      "text/html": [
       "<div>\n",
       "<style scoped>\n",
       "    .dataframe tbody tr th:only-of-type {\n",
       "        vertical-align: middle;\n",
       "    }\n",
       "\n",
       "    .dataframe tbody tr th {\n",
       "        vertical-align: top;\n",
       "    }\n",
       "\n",
       "    .dataframe thead th {\n",
       "        text-align: right;\n",
       "    }\n",
       "</style>\n",
       "<table border=\"1\" class=\"dataframe\">\n",
       "  <thead>\n",
       "    <tr style=\"text-align: right;\">\n",
       "      <th></th>\n",
       "      <th>Rank</th>\n",
       "      <th>Country</th>\n",
       "      <th>Cost of Living Index</th>\n",
       "      <th>Rent Index</th>\n",
       "      <th>Cost of Living Plus Rent Index</th>\n",
       "      <th>Groceries Index</th>\n",
       "      <th>Restaurant Price Index</th>\n",
       "      <th>Local Purchasing Power Index</th>\n",
       "    </tr>\n",
       "  </thead>\n",
       "  <tbody>\n",
       "    <tr>\n",
       "      <th>0</th>\n",
       "      <td>24</td>\n",
       "      <td>Canada</td>\n",
       "      <td>70.22</td>\n",
       "      <td>34.33</td>\n",
       "      <td>53.40</td>\n",
       "      <td>70.01</td>\n",
       "      <td>67.86</td>\n",
       "      <td>87.98</td>\n",
       "    </tr>\n",
       "    <tr>\n",
       "      <th>1</th>\n",
       "      <td>42</td>\n",
       "      <td>France</td>\n",
       "      <td>74.13</td>\n",
       "      <td>25.33</td>\n",
       "      <td>51.26</td>\n",
       "      <td>73.64</td>\n",
       "      <td>71.84</td>\n",
       "      <td>85.41</td>\n",
       "    </tr>\n",
       "    <tr>\n",
       "      <th>2</th>\n",
       "      <td>44</td>\n",
       "      <td>Germany</td>\n",
       "      <td>65.58</td>\n",
       "      <td>27.62</td>\n",
       "      <td>47.78</td>\n",
       "      <td>52.31</td>\n",
       "      <td>60.91</td>\n",
       "      <td>103.08</td>\n",
       "    </tr>\n",
       "    <tr>\n",
       "      <th>3</th>\n",
       "      <td>59</td>\n",
       "      <td>Italy</td>\n",
       "      <td>66.47</td>\n",
       "      <td>20.55</td>\n",
       "      <td>44.95</td>\n",
       "      <td>57.95</td>\n",
       "      <td>70.58</td>\n",
       "      <td>61.74</td>\n",
       "    </tr>\n",
       "    <tr>\n",
       "      <th>4</th>\n",
       "      <td>62</td>\n",
       "      <td>Japan</td>\n",
       "      <td>77.03</td>\n",
       "      <td>25.86</td>\n",
       "      <td>53.04</td>\n",
       "      <td>81.31</td>\n",
       "      <td>45.40</td>\n",
       "      <td>87.11</td>\n",
       "    </tr>\n",
       "    <tr>\n",
       "      <th>5</th>\n",
       "      <td>104</td>\n",
       "      <td>Russia</td>\n",
       "      <td>35.26</td>\n",
       "      <td>13.09</td>\n",
       "      <td>24.87</td>\n",
       "      <td>29.86</td>\n",
       "      <td>34.56</td>\n",
       "      <td>37.41</td>\n",
       "    </tr>\n",
       "    <tr>\n",
       "      <th>6</th>\n",
       "      <td>131</td>\n",
       "      <td>United Kingdom</td>\n",
       "      <td>69.65</td>\n",
       "      <td>31.84</td>\n",
       "      <td>51.93</td>\n",
       "      <td>56.58</td>\n",
       "      <td>76.79</td>\n",
       "      <td>88.78</td>\n",
       "    </tr>\n",
       "    <tr>\n",
       "      <th>7</th>\n",
       "      <td>132</td>\n",
       "      <td>United States</td>\n",
       "      <td>70.13</td>\n",
       "      <td>42.07</td>\n",
       "      <td>56.98</td>\n",
       "      <td>70.37</td>\n",
       "      <td>70.07</td>\n",
       "      <td>106.34</td>\n",
       "    </tr>\n",
       "  </tbody>\n",
       "</table>\n",
       "</div>"
      ],
      "text/plain": [
       "   Rank         Country  Cost of Living Index  Rent Index  \\\n",
       "0    24          Canada                 70.22       34.33   \n",
       "1    42          France                 74.13       25.33   \n",
       "2    44         Germany                 65.58       27.62   \n",
       "3    59           Italy                 66.47       20.55   \n",
       "4    62           Japan                 77.03       25.86   \n",
       "5   104          Russia                 35.26       13.09   \n",
       "6   131  United Kingdom                 69.65       31.84   \n",
       "7   132   United States                 70.13       42.07   \n",
       "\n",
       "   Cost of Living Plus Rent Index  Groceries Index  Restaurant Price Index  \\\n",
       "0                           53.40            70.01                   67.86   \n",
       "1                           51.26            73.64                   71.84   \n",
       "2                           47.78            52.31                   60.91   \n",
       "3                           44.95            57.95                   70.58   \n",
       "4                           53.04            81.31                   45.40   \n",
       "5                           24.87            29.86                   34.56   \n",
       "6                           51.93            56.58                   76.79   \n",
       "7                           56.98            70.37                   70.07   \n",
       "\n",
       "   Local Purchasing Power Index  \n",
       "0                         87.98  \n",
       "1                         85.41  \n",
       "2                        103.08  \n",
       "3                         61.74  \n",
       "4                         87.11  \n",
       "5                         37.41  \n",
       "6                         88.78  \n",
       "7                        106.34  "
      ]
     },
     "execution_count": 22,
     "metadata": {},
     "output_type": "execute_result"
    }
   ],
   "source": [
    "import matplotlib.pyplot as  plt\n",
    "import pandas as pd\n",
    "import numpy as np\n",
    "from scipy.stats import linregress\n",
    "from scipy import stats\n",
    "\n",
    "# import csv file\n",
    "url = \"/Users/siyuanliang/Desktop/G-8_Countries_cost_of_living.csv\"\n",
    "data_file=pd.read_csv(url)\n",
    "\n",
    "y = data_file['Cost of Living Index']*slope+intercept\n",
    "\n",
    "data_file"
   ]
  },
  {
   "cell_type": "code",
   "execution_count": 27,
   "id": "5de10526",
   "metadata": {},
   "outputs": [
    {
     "data": {
      "text/plain": [
       "Text(0, 0.5, 'Rent Index')"
      ]
     },
     "execution_count": 27,
     "metadata": {},
     "output_type": "execute_result"
    },
    {
     "data": {
      "image/png": "[encoded data removed]",
      "text/plain": [
       "<Figure size 432x288 with 1 Axes>"
      ]
     },
     "metadata": {
      "needs_background": "light"
     },
     "output_type": "display_data"
    }
   ],
   "source": [
    "# cost of Living vs Rent\n",
    "slope, intercept, rvalue, pvalue, stderr = stats.linregress(data_file['Cost of Living Index'],data_file[\"Rent Index\"])\n",
    "line_equation = \"y = \" + str(round(slope,2)) + \"x\" + str(round(intercept,2))\n",
    "plt.scatter(data_file['Cost of Living Index'],data_file[\"Rent Index\"])\n",
    "plt.plot(data_file['Cost of Living Index'],y,color = 'red')\n",
    "plt.grid()\n",
    "plt.annotate(line_equation,(50,30),color='red')\n",
    "plt.title(\"Cost comparision\")\n",
    "plt.xlabel(\"Cost of Living Index\")\n",
    "plt.ylabel(\"Rent Index\")"
   ]
  },
  {
   "cell_type": "code",
   "execution_count": 26,
   "id": "804fab22",
   "metadata": {},
   "outputs": [
    {
     "data": {
      "text/plain": [
       "Text(0, 0.5, 'Restaurant Price Index')"
      ]
     },
     "execution_count": 26,
     "metadata": {},
     "output_type": "execute_result"
    },
    {
     "data": {
      "image/png": "[encoded data removed]",
      "text/plain": [
       "<Figure size 432x288 with 1 Axes>"
      ]
     },
     "metadata": {
      "needs_background": "light"
     },
     "output_type": "display_data"
    }
   ],
   "source": [
    "# cost of living vs Groceries\n",
    "slope, intercept, rvalue, pvalue, stderr = stats.linregress(data_file['Cost of Living Index'],data_file[\"Groceries Index\"])\n",
    "line_equation = \"y = \" + str(round(slope,2)) + \"x\" + str(round(intercept,2))\n",
    "\n",
    "plt.scatter(data_file['Cost of Living Index'],data_file[\"Groceries Index\"])\n",
    "plt.plot(data_file['Cost of Living Index'],y,color = 'red')\n",
    "plt.grid()\n",
    "plt.annotate(line_equation,(50,30),color='red')\n",
    "plt.title(\"Cost comparision\")\n",
    "plt.xlabel(\"Cost of Living Index\")\n",
    "plt.ylabel(\"Restaurant Price Index\")"
   ]
  },
  {
   "cell_type": "code",
   "execution_count": 25,
   "id": "5cf5c732",
   "metadata": {},
   "outputs": [
    {
     "data": {
      "text/plain": [
       "Text(0, 0.5, 'Restaurant Price Index')"
      ]
     },
     "execution_count": 25,
     "metadata": {},
     "output_type": "execute_result"
    },
    {
     "data": {
      "image/png": "[encoded data removed]",
      "text/plain": [
       "<Figure size 432x288 with 1 Axes>"
      ]
     },
     "metadata": {
      "needs_background": "light"
     },
     "output_type": "display_data"
    }
   ],
   "source": [
    "# cost of living vs Resturant price\n",
    "slope, intercept, rvalue, pvalue, stderr = stats.linregress(data_file['Cost of Living Index'],data_file[\"Restaurant Price Index\"])\n",
    "line_equation = \"y = \" + str(round(slope,2)) + \"x + \" + str(round(intercept,2))\n",
    "\n",
    "plt.scatter(data_file['Cost of Living Index'],data_file[\"Restaurant Price Index\"])\n",
    "plt.plot(data_file['Cost of Living Index'],y,color = 'red')\n",
    "plt.grid()\n",
    "plt.annotate(line_equation,(50,30),color='red')\n",
    "plt.title(\"Cost comparision\")\n",
    "plt.xlabel(\"Cost of Living Index\")\n",
    "plt.ylabel(\"Restaurant Price Index\")"
   ]
  },
  {
   "cell_type": "code",
   "execution_count": 28,
   "id": "3f5c240f",
   "metadata": {},
   "outputs": [
    {
     "ename": "SyntaxError",
     "evalue": "invalid syntax (3595472574.py, line 5)",
     "output_type": "error",
     "traceback": [
      "\u001b[0;36m  File \u001b[0;32m\"/var/folders/t0/trftcgf923z_mljxn6xk43hw0000gn/T/ipykernel_70369/3595472574.py\"\u001b[0;36m, line \u001b[0;32m5\u001b[0m\n\u001b[0;31m    plt.scatter(data_file['Cost of Living Index'],data_file[\"Local Purchasing Power Index\"])\u001b[0m\n\u001b[0m    ^\u001b[0m\n\u001b[0;31mSyntaxError\u001b[0m\u001b[0;31m:\u001b[0m invalid syntax\n"
     ]
    }
   ],
   "source": [
    "# cost of living vs LP\n",
    "slope, intercept, rvalue, pvalue, stderr = stats.linregress(data_file['Cost of Living Index'],data_file[\"Local Purchasing Power Index\"])\n",
    "line_equation = \"y = \" + str(round(slope,2)) + \"x + \" + str(round(intercept,2)\n",
    "                                                            \n",
    "plt.scatter(data_file['Cost of Living Index'],data_file[\"Local Purchasing Power Index\"])\n",
    "plt.plot(data_file['Cost of Living Index'],y,color = 'red')\n",
    "plt.grid()\n",
    "plt.annotate(line_equation,(50,30),color='red')\n",
    "plt.title(\"Cost comparision\")\n",
    "plt.xlabel(\"Cost of Living Index\")\n",
    "plt.ylabel(\"Local Purchasing Power Index\")"
   ]
  },
  {
   "cell_type": "code",
   "execution_count": 17,
   "id": "679584e3",
   "metadata": {},
   "outputs": [
    {
     "data": {
      "text/plain": [
       "Text(0, 0.5, 'Cost of Living Plus Rent Index')"
      ]
     },
     "execution_count": 17,
     "metadata": {},
     "output_type": "execute_result"
    },
    {
     "data": {
      "image/png": "[encoded data removed]",
      "text/plain": [
       "<Figure size 432x288 with 1 Axes>"
      ]
     },
     "metadata": {
      "needs_background": "light"
     },
     "output_type": "display_data"
    }
   ],
   "source": [
    "# Scatter plots --- Column C and E\n",
    "\n",
    "slope, intercept, rvalue, pvalue, stderr = stats.linregress(data_file['Cost of Living Index'],data_file[\"Cost of Living Plus Rent Index\"])\n",
    "line_equation = \"y = \" + str(round(slope,2)) + \"x + \" + str(round(intercept,2))\n",
    "y = data_file['Cost of Living Index']*slope+intercept\n",
    "plt.scatter(data_file['Cost of Living Index'],data_file[\"Cost of Living Plus Rent Index\"])\n",
    "plt.plot(data_file['Cost of Living Index'],y,color = 'red')\n",
    "plt.grid()\n",
    "plt.annotate(line_equation,(50,30),color='red')\n",
    "plt.title(\"Cost comparision\")\n",
    "plt.xlabel(\"Cost of Living Index\")\n",
    "plt.ylabel(\"Cost of Living Plus Rent Index\")"
   ]
  },
  {
   "cell_type": "code",
   "execution_count": null,
   "id": "901f104b",
   "metadata": {},
   "outputs": [],
   "source": []
  }
 ],
 "metadata": {
  "kernelspec": {
   "display_name": "Python 3 (ipykernel)",
   "language": "python",
   "name": "python3"
  },
  "language_info": {
   "codemirror_mode": {
    "name": "ipython",
    "version": 3
   },
   "file_extension": ".py",
   "mimetype": "text/x-python",
   "name": "python",
   "nbconvert_exporter": "python",
   "pygments_lexer": "ipython3",
   "version": "3.9.7"
  }
 },
 "nbformat": 4,
 "nbformat_minor": 5
}
